{
 "cells": [
  {
   "cell_type": "code",
   "execution_count": 1,
   "metadata": {},
   "outputs": [],
   "source": [
    "import pandas as pd\n",
    "import numpy as np"
   ]
  },
  {
   "cell_type": "code",
   "execution_count": 2,
   "metadata": {},
   "outputs": [],
   "source": [
    "def file_names_list(n,f,cv=10):\n",
    "    X = []\n",
    "    y = []\n",
    "    path = 'local_data/pca/Datasets/'\n",
    "    for i in range(cv):\n",
    "        X_name = path+str(n)+'/X_'+str(n)+'_'+str(i+1)+'_'+str(f)+'.csv'\n",
    "        y_name = path+str(n)+'/y_'+str(n)+'_'+str(i+1)+'.csv'\n",
    "        X.append(X_name)\n",
    "        y.append(y_name)\n",
    "    X.append(path+str(n)+'/X_test_'+str(n)+'_'+str(f)+'.csv')\n",
    "    y.append(path+str(n)+'/y_test_'+str(n)+'.csv')\n",
    "    \n",
    "    return X,y"
   ]
  },
  {
   "cell_type": "code",
   "execution_count": 3,
   "metadata": {},
   "outputs": [],
   "source": [
    "def merge_data(n,f):\n",
    "    X,y = file_names_list(n,f)\n",
    "    X = [pd.read_csv(f, header=None) for f in X]\n",
    "    y = [pd.read_csv(f, header=None) for f in y]\n",
    "    X = pd.concat(X)\n",
    "    X.reset_index(drop=True, inplace=True)\n",
    "    y = pd.concat(y)\n",
    "    y.reset_index(drop=True, inplace=True)\n",
    "    \n",
    "    return X,y"
   ]
  },
  {
   "cell_type": "code",
   "execution_count": 4,
   "metadata": {},
   "outputs": [],
   "source": [
    "def save_data(X,y,n,f):\n",
    "    X.to_csv('db/XPCA_'+str(n)+'_'+str(f)+'.csv',index=False)\n",
    "    y.to_csv('db/yPCA_'+str(n)+'_'+str(f)+'.csv',index=False)"
   ]
  },
  {
   "cell_type": "code",
   "execution_count": 5,
   "metadata": {},
   "outputs": [],
   "source": [
    "n_list=[1,2,3,4,5]\n",
    "f_list=[100,1000,3000]"
   ]
  },
  {
   "cell_type": "code",
   "execution_count": 6,
   "metadata": {},
   "outputs": [],
   "source": [
    "X_0,y_0 = merge_data(0,0)\n",
    "save_data(X_0,y_0,0,0)"
   ]
  },
  {
   "cell_type": "code",
   "execution_count": 7,
   "metadata": {},
   "outputs": [],
   "source": [
    "for n in n_list:\n",
    "    for f in f_list:\n",
    "        X,y = merge_data(n,f)\n",
    "        save_data(X,y,n,f)"
   ]
  },
  {
   "cell_type": "code",
   "execution_count": null,
   "metadata": {},
   "outputs": [],
   "source": []
  }
 ],
 "metadata": {
  "kernelspec": {
   "display_name": "Python 3",
   "language": "python",
   "name": "python3"
  },
  "language_info": {
   "codemirror_mode": {
    "name": "ipython",
    "version": 3
   },
   "file_extension": ".py",
   "mimetype": "text/x-python",
   "name": "python",
   "nbconvert_exporter": "python",
   "pygments_lexer": "ipython3",
   "version": "3.6.9"
  }
 },
 "nbformat": 4,
 "nbformat_minor": 4
}
