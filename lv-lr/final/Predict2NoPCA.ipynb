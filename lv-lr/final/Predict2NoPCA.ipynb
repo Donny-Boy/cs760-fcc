{
 "cells": [
  {
   "cell_type": "markdown",
   "metadata": {},
   "source": [
    "This example it is going to be used model 'models/b2.p'. It will be taken the dataset data with 'not_commenter'=0.0, pre-process, and predict how many Positives and Negatives are there"
   ]
  },
  {
   "cell_type": "code",
   "execution_count": 1,
   "metadata": {},
   "outputs": [],
   "source": [
    "import numpy as np\n",
    "import csv\n",
    "import pickle\n",
    "import pandas as pd\n",
    "import matplotlib.pyplot as plt\n",
    "from sklearn.linear_model import LogisticRegressionCV\n",
    "%matplotlib inline"
   ]
  },
  {
   "cell_type": "markdown",
   "metadata": {},
   "source": [
    "Load Data"
   ]
  },
  {
   "cell_type": "code",
   "execution_count": 2,
   "metadata": {},
   "outputs": [],
   "source": [
    "file_name = \"dataset.csv\"\n",
    "df = pd.read_csv(\"db/survey-no-response/v1/\"+file_name)"
   ]
  },
  {
   "cell_type": "markdown",
   "metadata": {},
   "source": [
    "Pick the 'not_commenter' = 0"
   ]
  },
  {
   "cell_type": "code",
   "execution_count": 3,
   "metadata": {},
   "outputs": [],
   "source": [
    "df = df.loc[df['not_commenter']==0]\n",
    "df.reset_index(drop=True, inplace=True)\n",
    "df = df.drop(columns=['not_commenter'])"
   ]
  },
  {
   "cell_type": "markdown",
   "metadata": {},
   "source": [
    "Load max and min from training"
   ]
  },
  {
   "cell_type": "code",
   "execution_count": 4,
   "metadata": {},
   "outputs": [],
   "source": [
    "bowmax, bowmin = pickle.load(open( \"results/bow_mm.p\", \"rb\" ))\n",
    "dfmax, dfmin = pickle.load(open( \"results/df_mm.p\", \"rb\" ))"
   ]
  },
  {
   "cell_type": "markdown",
   "metadata": {},
   "source": [
    "PreProcess"
   ]
  },
  {
   "cell_type": "code",
   "execution_count": 5,
   "metadata": {},
   "outputs": [],
   "source": [
    "campaigns = []\n",
    "for name in df.columns:\n",
    "    if \"campaign.\" in name:\n",
    "        campaigns.append(name)\n",
    "\n",
    "campaigns_df = df[campaigns]\n",
    "df = df.drop(columns=campaigns)\n",
    "\n",
    "words = []\n",
    "for w in df.columns:\n",
    "    if \"text.\" in w:\n",
    "        words.append(w)\n",
    "\n",
    "bow_df = df[words]\n",
    "df = df.drop(columns=words)\n",
    "\n",
    "city = []\n",
    "for c in df.columns:\n",
    "    if \"city_state.\" in c:\n",
    "        city.append(c)\n",
    "\n",
    "city_df = df[city]\n",
    "df = df.drop(columns=city)"
   ]
  },
  {
   "cell_type": "code",
   "execution_count": 6,
   "metadata": {},
   "outputs": [],
   "source": [
    "normalized_bow= (bow_df-bowmin)/(bowmax-bowmin)\n",
    "normalized_df = (df-dfmin)/(dfmax-dfmin)\n",
    "\n",
    "# All the subsets with no PCA\n",
    "\n",
    "baseline_df = pd.concat([normalized_df[['date_disseminated','date_received','submitted','email_confirmation']]],axis=1)\n",
    "\n",
    "baseline_cam_df = pd.concat([baseline_df,campaigns_df],axis=1)\n",
    "\n",
    "baseline_cam_bins_df = pd.concat([baseline_cam_df,normalized_df[['campaign_centered_bin','campaign_submitted_bin']]],axis=1)\n",
    "\n",
    "baseline_bow_df = pd.concat([baseline_df,normalized_bow],axis=1)\n",
    "\n",
    "baseline_bow_bins_df = pd.concat([baseline_bow_df,normalized_df[['all_centered_bin','all_submitted_bin']]],axis=1)"
   ]
  },
  {
   "cell_type": "markdown",
   "metadata": {},
   "source": [
    "Load Model"
   ]
  },
  {
   "cell_type": "code",
   "execution_count": 7,
   "metadata": {},
   "outputs": [],
   "source": [
    "model = pickle.load(open( \"models/b2.p\", \"rb\" ))\n",
    "predictions = model.predict(baseline_cam_df)"
   ]
  },
  {
   "cell_type": "markdown",
   "metadata": {},
   "source": [
    "Predict"
   ]
  },
  {
   "cell_type": "code",
   "execution_count": 8,
   "metadata": {},
   "outputs": [
    {
     "data": {
      "text/plain": [
       "181007"
      ]
     },
     "execution_count": 8,
     "metadata": {},
     "output_type": "execute_result"
    }
   ],
   "source": [
    "sum(predictions == 1)"
   ]
  },
  {
   "cell_type": "code",
   "execution_count": 9,
   "metadata": {},
   "outputs": [
    {
     "data": {
      "text/plain": [
       "255820"
      ]
     },
     "execution_count": 9,
     "metadata": {},
     "output_type": "execute_result"
    }
   ],
   "source": [
    "sum(predictions == -1)"
   ]
  },
  {
   "cell_type": "code",
   "execution_count": 10,
   "metadata": {},
   "outputs": [
    {
     "data": {
      "text/plain": [
       "436827"
      ]
     },
     "execution_count": 10,
     "metadata": {},
     "output_type": "execute_result"
    }
   ],
   "source": [
    "predictions.shape[0]"
   ]
  },
  {
   "cell_type": "code",
   "execution_count": null,
   "metadata": {},
   "outputs": [],
   "source": []
  }
 ],
 "metadata": {
  "kernelspec": {
   "display_name": "Python 3",
   "language": "python",
   "name": "python3"
  },
  "language_info": {
   "codemirror_mode": {
    "name": "ipython",
    "version": 3
   },
   "file_extension": ".py",
   "mimetype": "text/x-python",
   "name": "python",
   "nbconvert_exporter": "python",
   "pygments_lexer": "ipython3",
   "version": "3.6.9"
  }
 },
 "nbformat": 4,
 "nbformat_minor": 4
}
