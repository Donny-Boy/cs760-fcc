{
 "cells": [
  {
   "cell_type": "code",
   "execution_count": 20,
   "metadata": {},
   "outputs": [],
   "source": [
    "import numpy as np\n",
    "import csv\n",
    "import pickle\n",
    "import pandas as pd\n",
    "import matplotlib.pyplot as plt\n",
    "import sklearn\n",
    "from sklearn import svm\n",
    "from sklearn import metrics\n",
    "from sklearn.model_selection import train_test_split\n",
    "from sklearn.model_selection import KFold\n",
    "from sklearn.neighbors import KNeighborsClassifier\n",
    "from sklearn.model_selection import cross_val_score\n",
    "from sklearn.metrics import roc_curve,auc\n",
    "import warnings\n",
    "warnings.filterwarnings('ignore')\n",
    "%matplotlib inline"
   ]
  },
  {
   "cell_type": "code",
   "execution_count": 12,
   "metadata": {},
   "outputs": [],
   "source": [
    "def readData(num):\n",
    "    datas=[]\n",
    "    labels=[]\n",
    "    x_test=pd.read_csv('Results/Datasets/'+str(num)+'/Orig/'+'X_test_Orig_'+str(num)+'.csv').to_numpy()\n",
    "    y_test=pd.read_csv('Results/Datasets/'+str(num)+'/Orig/'+'y_test_'+str(num)+'.csv').to_numpy()\n",
    "    for i in range(10):\n",
    "        data='X_Orig_'+str(num)+'_'+str(i+1)+'.csv'\n",
    "        label='Y_'+str(num)+'_'+str(i+1)+'.csv'\n",
    "        df1=pd.read_csv('Results/Datasets/'+str(num)+'/Orig/'+data)    \n",
    "        df2=pd.read_csv('Results/Datasets/'+str(num)+'/Orig/'+label)\n",
    "        datas.append(df1.to_numpy())\n",
    "        labels.append(df2.to_numpy())\n",
    "    data=datas[0]\n",
    "    label=labels[0]\n",
    "    for i in range(1,len(datas)):\n",
    "        data=np.concatenate((data,datas[i]),axis=0)\n",
    "        label=np.concatenate((label,labels[i]),axis=0)\n",
    "    label2=np.reshape(label,(10245))\n",
    "    np.random.seed(0)\n",
    "    index_0=np.where(label2==-1)\n",
    "    index_1=np.where(label2==1)\n",
    "    mask1=np.random.choice(index_0[0],1609)\n",
    "    mask2=index_1[0]\n",
    "    mask=np.concatenate((mask1,mask2))\n",
    "    label_3=label[mask]\n",
    "    data_3=data[mask]\n",
    "    return (x_test,y_test,data_3,label_3)"
   ]
  },
  {
   "cell_type": "markdown",
   "metadata": {},
   "source": [
    "# Base dataset"
   ]
  },
  {
   "cell_type": "code",
   "execution_count": 14,
   "metadata": {},
   "outputs": [
    {
     "name": "stdout",
     "output_type": "stream",
     "text": [
      "(2562, 4) (2562, 1) (3218, 4) (3218, 1)\n"
     ]
    }
   ],
   "source": [
    "(x_test0,y_test0,x_train0,y_train0)=readData(0)\n",
    "print(x_test0.shape,y_test0.shape,x_train0.shape,y_train0.shape)"
   ]
  },
  {
   "cell_type": "code",
   "execution_count": 15,
   "metadata": {},
   "outputs": [],
   "source": [
    "def normData(x_train,x_test,epsilon=1e-7):\n",
    "    mean=np.mean(x_train,axis=0)\n",
    "    std=np.std(x_train,axis=0)\n",
    "    x_train=(x_train-mean)/(std+epsilon)\n",
    "    x_test=(x_test-mean)/(std+epsilon)\n",
    "    return(x_train,x_test)"
   ]
  },
  {
   "cell_type": "code",
   "execution_count": 22,
   "metadata": {},
   "outputs": [],
   "source": [
    "def svmCross(train_data,test_data):\n",
    "    gamma=[1e-1,1,1e1]\n",
    "    C=[1e2,1e3,1e4]\n",
    "    for i in range(len(gamma)):\n",
    "        for j in range(len(C)):\n",
    "            clf=svm.SVC(kernel='rbf',C=C[j],gamma=gamma[i])\n",
    "            scores=cross_val_score(clf,train_data,test_data,cv=10,scoring='accuracy')\n",
    "            print('C: ',C[j],'gamma',gamma[i],'average: ',scores.mean())"
   ]
  },
  {
   "cell_type": "code",
   "execution_count": 16,
   "metadata": {},
   "outputs": [],
   "source": [
    "x_train0_norm,x_test0_norm=normData(x_train0,x_test0)"
   ]
  },
  {
   "cell_type": "code",
   "execution_count": 23,
   "metadata": {},
   "outputs": [
    {
     "name": "stdout",
     "output_type": "stream",
     "text": [
      "C:  100.0 gamma 0.1 average:  0.7162791149068323\n",
      "C:  1000.0 gamma 0.1 average:  0.7541906055900621\n",
      "C:  10000.0 gamma 0.1 average:  0.828167701863354\n",
      "C:  100.0 gamma 1 average:  0.8738392857142857\n",
      "C:  1000.0 gamma 1 average:  0.8816090838509318\n",
      "C:  10000.0 gamma 1 average:  0.8872030279503106\n",
      "C:  100.0 gamma 10.0 average:  0.8875155279503106\n",
      "C:  1000.0 gamma 10.0 average:  0.8872069099378882\n",
      "C:  10000.0 gamma 10.0 average:  0.8862732919254659\n"
     ]
    }
   ],
   "source": [
    "svmCross(x_train0_norm,y_train0)"
   ]
  },
  {
   "cell_type": "code",
   "execution_count": 24,
   "metadata": {},
   "outputs": [],
   "source": [
    "def testAccuracy(clf,test_x,test_y):\n",
    "    pred=clf.predict(test_x)\n",
    "    true=np.reshape(test_y,pred.shape)\n",
    "    accuracy=np.sum(pred==true)/true.shape[0]\n",
    "    print('test accuracy: ',accuracy)"
   ]
  },
  {
   "cell_type": "code",
   "execution_count": 34,
   "metadata": {},
   "outputs": [],
   "source": [
    "def performance(clf,test_x,test_y):\n",
    "    pred=clf.predict(test_x)\n",
    "    true=np.reshape(test_y,pred.shape)\n",
    "    accuracy=sklearn.metrics.accuracy_score(test_y,pred)\n",
    "    precision=sklearn.metrics.precision_score(test_y,pred)\n",
    "    recall=sklearn.metrics.recall_score(test_y,pred)\n",
    "    f1=sklearn.metrics.f1_score(test_y,pred)\n",
    "    pred=clf.decision_function(test_x)\n",
    "    fpr,tpr,threshold=roc_curve(test_y,pred)\n",
    "    auc=sklearn.metrics.auc(fpr,tpr)\n",
    "    print('accuracy: ',accuracy)\n",
    "    print('precision: ',precision)\n",
    "    print('recall: ',recall)\n",
    "    print('f1: ',f1)\n",
    "    print('auc',auc)\n",
    "    "
   ]
  },
  {
   "cell_type": "code",
   "execution_count": 35,
   "metadata": {},
   "outputs": [
    {
     "name": "stdout",
     "output_type": "stream",
     "text": [
      "accuracy:  0.9352068696330992\n",
      "precision:  0.8052256532066508\n",
      "recall:  0.8014184397163121\n",
      "f1:  0.8033175355450237\n",
      "auc 0.8944365421193925\n"
     ]
    }
   ],
   "source": [
    "#C=1000,gamma=10\n",
    "clf0=svm.SVC(kernel='rbf',C=1000,gamma=10)\n",
    "clf0.fit(x_train0_norm,y_train0)\n",
    "performance(clf0,x_test0_norm,y_test0)"
   ]
  },
  {
   "cell_type": "markdown",
   "metadata": {},
   "source": [
    "# BaseCampaign"
   ]
  },
  {
   "cell_type": "code",
   "execution_count": 37,
   "metadata": {},
   "outputs": [
    {
     "name": "stdout",
     "output_type": "stream",
     "text": [
      "(2562, 46) (2562, 1) (3218, 46) (3218, 1)\n"
     ]
    }
   ],
   "source": [
    "(x_test1,y_test1,x_train1,y_train1)=readData(1)\n",
    "print(x_test1.shape,y_test1.shape,x_train1.shape,y_train1.shape)"
   ]
  },
  {
   "cell_type": "code",
   "execution_count": 38,
   "metadata": {},
   "outputs": [],
   "source": [
    "x_train1_norm,x_test1_norm=normData(x_train1,x_test1)"
   ]
  },
  {
   "cell_type": "code",
   "execution_count": 39,
   "metadata": {},
   "outputs": [
    {
     "name": "stdout",
     "output_type": "stream",
     "text": [
      "C:  100.0 gamma 0.1 average:  0.9027445652173913\n",
      "C:  1000.0 gamma 0.1 average:  0.9027445652173913\n",
      "C:  10000.0 gamma 0.1 average:  0.902123447204969\n",
      "C:  100.0 gamma 1 average:  0.902123447204969\n",
      "C:  1000.0 gamma 1 average:  0.9015023291925466\n",
      "C:  10000.0 gamma 1 average:  0.8993284161490683\n",
      "C:  100.0 gamma 10.0 average:  0.9015023291925466\n",
      "C:  1000.0 gamma 10.0 average:  0.898707298136646\n",
      "C:  10000.0 gamma 10.0 average:  0.8962208850931678\n"
     ]
    }
   ],
   "source": [
    "svmCross(x_train1_norm,y_train1)"
   ]
  },
  {
   "cell_type": "code",
   "execution_count": 40,
   "metadata": {},
   "outputs": [
    {
     "name": "stdout",
     "output_type": "stream",
     "text": [
      "accuracy:  0.9504293520686963\n",
      "precision:  0.8737373737373737\n",
      "recall:  0.817966903073286\n",
      "f1:  0.8449328449328448\n",
      "auc 0.903910490419398\n"
     ]
    }
   ],
   "source": [
    "#c=1000,gamma=0.1\n",
    "clf1=svm.SVC(kernel='rbf',C=1000,gamma=0.1)\n",
    "clf1.fit(x_train1_norm,y_train1)\n",
    "performance(clf1,x_test1_norm,y_test1)"
   ]
  },
  {
   "cell_type": "markdown",
   "metadata": {},
   "source": [
    "# BaseCampaginBin"
   ]
  },
  {
   "cell_type": "code",
   "execution_count": 41,
   "metadata": {},
   "outputs": [
    {
     "name": "stdout",
     "output_type": "stream",
     "text": [
      "(2562, 48) (2562, 1) (3218, 48) (3218, 1)\n"
     ]
    }
   ],
   "source": [
    "(x_test2,y_test2,x_train2,y_train2)=readData(2)\n",
    "print(x_test2.shape,y_test2.shape,x_train2.shape,y_train2.shape)"
   ]
  },
  {
   "cell_type": "code",
   "execution_count": 42,
   "metadata": {},
   "outputs": [],
   "source": [
    "x_train2_norm,x_test2_norm=normData(x_train2,x_test2)"
   ]
  },
  {
   "cell_type": "code",
   "execution_count": 43,
   "metadata": {},
   "outputs": [
    {
     "name": "stdout",
     "output_type": "stream",
     "text": [
      "C:  100.0 gamma 0.1 average:  0.9027445652173913\n",
      "C:  1000.0 gamma 0.1 average:  0.9027445652173913\n",
      "C:  10000.0 gamma 0.1 average:  0.9015023291925466\n",
      "C:  100.0 gamma 1 average:  0.902123447204969\n",
      "C:  1000.0 gamma 1 average:  0.9011917701863353\n",
      "C:  10000.0 gamma 1 average:  0.8990178571428571\n",
      "C:  100.0 gamma 10.0 average:  0.9008812111801243\n",
      "C:  1000.0 gamma 10.0 average:  0.8983967391304347\n",
      "C:  10000.0 gamma 10.0 average:  0.8962208850931678\n"
     ]
    }
   ],
   "source": [
    "svmCross(x_train2_norm,y_train2)"
   ]
  },
  {
   "cell_type": "code",
   "execution_count": 45,
   "metadata": {},
   "outputs": [
    {
     "name": "stdout",
     "output_type": "stream",
     "text": [
      "accuracy:  0.9480874316939891\n",
      "precision:  0.8606965174129353\n",
      "recall:  0.817966903073286\n",
      "f1:  0.8387878787878787\n",
      "auc 0.9003317871301518\n"
     ]
    }
   ],
   "source": [
    "#c=1000,gamma=1\n",
    "clf2=svm.SVC(kernel='rbf',C=1000,gamma=1)\n",
    "clf2.fit(x_train2_norm,y_train2)\n",
    "performance(clf2,x_test2_norm,y_test2)"
   ]
  },
  {
   "cell_type": "markdown",
   "metadata": {},
   "source": [
    "# BaseBow"
   ]
  },
  {
   "cell_type": "code",
   "execution_count": 46,
   "metadata": {},
   "outputs": [
    {
     "name": "stdout",
     "output_type": "stream",
     "text": [
      "(2562, 104) (2562, 1) (3218, 104) (3218, 1)\n"
     ]
    }
   ],
   "source": [
    "(x_test3,y_test3,x_train3,y_train3)=readData(3)\n",
    "print(x_test3.shape,y_test3.shape,x_train3.shape,y_train3.shape)"
   ]
  },
  {
   "cell_type": "code",
   "execution_count": 47,
   "metadata": {},
   "outputs": [],
   "source": [
    "x_train3_norm,x_test3_norm=normData(x_train3,x_test3)"
   ]
  },
  {
   "cell_type": "code",
   "execution_count": 48,
   "metadata": {},
   "outputs": [
    {
     "name": "stdout",
     "output_type": "stream",
     "text": [
      "C:  100.0 gamma 0.1 average:  0.8918730590062113\n",
      "C:  1000.0 gamma 0.1 average:  0.8915625\n",
      "C:  10000.0 gamma 0.1 average:  0.8915625\n",
      "C:  100.0 gamma 1 average:  0.8831657608695652\n",
      "C:  1000.0 gamma 1 average:  0.8831657608695652\n",
      "C:  10000.0 gamma 1 average:  0.8819235248447205\n",
      "C:  100.0 gamma 10.0 average:  0.8834763198757765\n",
      "C:  1000.0 gamma 10.0 average:  0.8813024068322981\n",
      "C:  10000.0 gamma 10.0 average:  0.8819235248447205\n"
     ]
    }
   ],
   "source": [
    "svmCross(x_train3_norm,y_train3)"
   ]
  },
  {
   "cell_type": "code",
   "execution_count": 49,
   "metadata": {},
   "outputs": [
    {
     "name": "stdout",
     "output_type": "stream",
     "text": [
      "accuracy:  0.9449648711943794\n",
      "precision:  0.8578680203045685\n",
      "recall:  0.7990543735224587\n",
      "f1:  0.8274173806609547\n",
      "auc 0.8890651715246625\n"
     ]
    }
   ],
   "source": [
    "#c=1000, gamma=0.1\n",
    "clf3=svm.SVC(kernel='rbf',C=1000,gamma=0.1)\n",
    "clf3.fit(x_train3_norm,y_train3)\n",
    "performance(clf3,x_test3_norm,y_test3)"
   ]
  },
  {
   "cell_type": "markdown",
   "metadata": {},
   "source": [
    "# BaseBowBin"
   ]
  },
  {
   "cell_type": "code",
   "execution_count": 50,
   "metadata": {},
   "outputs": [
    {
     "name": "stdout",
     "output_type": "stream",
     "text": [
      "(2562, 106) (2562, 1) (3218, 106) (3218, 1)\n"
     ]
    }
   ],
   "source": [
    "(x_test4,y_test4,x_train4,y_train4)=readData(4)\n",
    "print(x_test4.shape,y_test4.shape,x_train4.shape,y_train4.shape)"
   ]
  },
  {
   "cell_type": "code",
   "execution_count": 51,
   "metadata": {},
   "outputs": [],
   "source": [
    "x_train4_norm,x_test4_norm=normData(x_train4,x_test4)"
   ]
  },
  {
   "cell_type": "code",
   "execution_count": 52,
   "metadata": {},
   "outputs": [
    {
     "name": "stdout",
     "output_type": "stream",
     "text": [
      "C:  100.0 gamma 0.1 average:  0.89125\n",
      "C:  1000.0 gamma 0.1 average:  0.89125\n",
      "C:  10000.0 gamma 0.1 average:  0.8903202639751553\n",
      "C:  100.0 gamma 1 average:  0.8822340838509317\n",
      "C:  1000.0 gamma 1 average:  0.8816129658385095\n",
      "C:  10000.0 gamma 1 average:  0.8803707298136647\n",
      "C:  100.0 gamma 10.0 average:  0.8788179347826087\n",
      "C:  1000.0 gamma 10.0 average:  0.8766440217391305\n",
      "C:  10000.0 gamma 10.0 average:  0.8750912267080745\n"
     ]
    }
   ],
   "source": [
    "svmCross(x_train4_norm,y_train4)"
   ]
  },
  {
   "cell_type": "code",
   "execution_count": 53,
   "metadata": {},
   "outputs": [
    {
     "name": "stdout",
     "output_type": "stream",
     "text": [
      "accuracy:  0.9453551912568307\n",
      "precision:  0.8618925831202046\n",
      "recall:  0.7966903073286052\n",
      "f1:  0.828009828009828\n",
      "auc 0.8935512606695204\n"
     ]
    }
   ],
   "source": [
    "#c=1000, gamma=0.1\n",
    "clf4=svm.SVC(kernel='rbf',C=1000,gamma=0.1)\n",
    "clf4.fit(x_train4_norm,y_train4)\n",
    "performance(clf4,x_test4_norm,y_test4)"
   ]
  },
  {
   "cell_type": "code",
   "execution_count": null,
   "metadata": {},
   "outputs": [],
   "source": []
  }
 ],
 "metadata": {
  "kernelspec": {
   "display_name": "Python 3",
   "language": "python",
   "name": "python3"
  },
  "language_info": {
   "codemirror_mode": {
    "name": "ipython",
    "version": 3
   },
   "file_extension": ".py",
   "mimetype": "text/x-python",
   "name": "python",
   "nbconvert_exporter": "python",
   "pygments_lexer": "ipython3",
   "version": "3.6.5"
  }
 },
 "nbformat": 4,
 "nbformat_minor": 2
}
